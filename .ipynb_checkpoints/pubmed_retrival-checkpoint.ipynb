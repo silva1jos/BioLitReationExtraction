{
 "cells": [
  {
   "cell_type": "code",
   "execution_count": 1,
   "metadata": {},
   "outputs": [],
   "source": [
    "import pandas as pd\n",
    "from xml.etree import ElementTree\n",
    "import requests\n",
    "import pubmed_xml"
   ]
  },
  {
   "cell_type": "markdown",
   "metadata": {},
   "source": [
    "### Script to pull files from pubmed"
   ]
  },
  {
   "cell_type": "code",
   "execution_count": 6,
   "metadata": {},
   "outputs": [],
   "source": [
    "gad_df = pd.read_csv('../dataset/GADCDC_data.tsv', sep='\\t', usecols=[0, 1, 2, 3, 5, 9], dtype=str)\n",
    "gad_df.dropna(subset=['DISEASE', 'GENE', 'PUBMEDID'], inplace=True)"
   ]
  },
  {
   "cell_type": "code",
   "execution_count": 7,
   "metadata": {},
   "outputs": [],
   "source": [
    "pubmed_id = pd.Series(gad_df['PUBMEDID'].unique())"
   ]
  },
  {
   "cell_type": "code",
   "execution_count": 4,
   "metadata": {},
   "outputs": [],
   "source": [
    "articles = ','.join(list(pubmed_id[:200]))"
   ]
  },
  {
   "cell_type": "code",
   "execution_count": 2,
   "metadata": {},
   "outputs": [],
   "source": [
    "base_url = 'https://eutils.ncbi.nlm.nih.gov/entrez/eutils/efetch.fcgi'"
   ]
  },
  {
   "cell_type": "code",
   "execution_count": 3,
   "metadata": {},
   "outputs": [],
   "source": [
    "r = requests.get('https://eutils.ncbi.nlm.nih.gov/entrez/eutils/efetch.fcgi?db=pubmed&id=7593547&retmode=xml')"
   ]
  },
  {
   "cell_type": "code",
   "execution_count": 94,
   "metadata": {},
   "outputs": [],
   "source": [
    "r = requests.get(url = base_url, params = {'db':'pubmed', 'retmode':'xml', 'id':'16120569'})"
   ]
  },
  {
   "cell_type": "code",
   "execution_count": 1,
   "metadata": {},
   "outputs": [],
   "source": [
    "files = pubmed_xml.many_files('abstract', list(pubmed_id))"
   ]
  },
  {
   "cell_type": "code",
   "execution_count": 4,
   "metadata": {},
   "outputs": [],
   "source": [
    "pubmed_xml.write_files('abstract', files)"
   ]
  },
  {
   "cell_type": "code",
   "execution_count": 8,
   "metadata": {},
   "outputs": [
    {
     "data": {
      "text/plain": [
       "54070"
      ]
     },
     "execution_count": 8,
     "metadata": {},
     "output_type": "execute_result"
    }
   ],
   "source": [
    "len(list(pubmed_id))"
   ]
  },
  {
   "cell_type": "code",
   "execution_count": 68,
   "metadata": {},
   "outputs": [],
   "source": [
    "tree = ElementTree.fromstring(r.text)\n",
    "for child in tree:\n",
    "    pubmed_id = child[0][0].text\n",
    "    ElementTree.ElementTree(child).write('../corpus/' + pubmed_id + '.xml')"
   ]
  },
  {
   "cell_type": "code",
   "execution_count": null,
   "metadata": {},
   "outputs": [],
   "source": [
    "url = 'https://eutils.ncbi.nlm.nih.gov/entrez/eutils/efetch.fcgi?db=pubmed&rettype=abstract&id=15304010'"
   ]
  },
  {
   "cell_type": "markdown",
   "metadata": {},
   "source": [
    "#### PUBMED will not let you make automated requests\n",
    "#### There are 62 GB of tar.gz files on ftp which is not feasable to go through\n",
    "#### able to use the Entrez Utilities api to make requests\n",
    "#### Limit of 3/10 (w/ api key) requests per second (we can request more if needed)\n",
    "##### able to get around this: https://www.ncbi.nlm.nih.gov/books/NBK25498/#chapter3.Application_3_Retrieving_large"
   ]
  },
  {
   "cell_type": "code",
   "execution_count": null,
   "metadata": {},
   "outputs": [],
   "source": [
    "# making the Post request https://eutils.ncbi.nlm.nih.gov/entrez/eutils/epost.fcgi\n",
    "# looks like this https://eutils.ncbi.nlm.nih.gov/entrez/eutils/epost.fcgi?db=pubmed&id=11237011,12466850\n",
    "# base url https://eutils.ncbi.nlm.nih.gov/entrez/eutils/\n",
    "# post service epost.fcgi\n",
    "# db=pubmed |use the pubmed database\n",
    "# id=XXXXX,XXXXX,.... The ids to upload\n",
    "# Note there is no maximum for ids to post if more than 200 should be made using the HTTP POST method\n",
    "# possible to do this over multiple requests -> posts create WebEnv specify this with: WebEnv=<Some String>\n",
    "# If WebEnv is not provided, creates a new one (returned somehow) the ID list is saved to query_key 1\n",
    "# it might be the case that with multiple calls to the same WebEnv that each set is added to new query key?\n",
    "# ----------------------------------------------------------------------\n",
    "# retrieving this\n",
    "# base_url(above) +\n",
    "# efetch.fcgi | efetch is for fetching data\n",
    "# db=pubmed | want results from pubmed\n",
    "# rettype=abstract&retmode=text | want only the abstract\n",
    "# retmode=xml | want the result as xml for whole entry\n",
    "#---------------------------------\n",
    "# If using epost\n",
    "# WebEnv=<Some String> | From the epost above\n",
    "# query_key=<Some Key> | from the epost above\n",
    "# retstart=<Starting Point> |  0 indexed\n",
    "# retmax=<Some Amount> | max of 10,000\n",
    "# ----------------------------------\n",
    "# Id providing list of IDs\n",
    "# id = XXXX,XXXX,XXXX.... max of 200 with HTTP GET? need to use HTTP Post?\n",
    "# POST \n",
    "# need to create an http user agent\n",
    "# make an http request object on the default efetch url\n",
    "# set the tontent type to 'application/x-www-form-urlencoded'\n",
    "# set the content to url params the ?X=Y&X=Y... above\n",
    "# May need to set ids like id=XX&id=XX&id=XX...\n",
    "# using the agent, make the request\n",
    "# need to do this in batches of 10,000?"
   ]
  }
 ],
 "metadata": {
  "kernelspec": {
   "display_name": "Python 2",
   "language": "python",
   "name": "python2"
  },
  "language_info": {
   "codemirror_mode": {
    "name": "ipython",
    "version": 2
   },
   "file_extension": ".py",
   "mimetype": "text/x-python",
   "name": "python",
   "nbconvert_exporter": "python",
   "pygments_lexer": "ipython2",
   "version": "2.7.15rc1"
  }
 },
 "nbformat": 4,
 "nbformat_minor": 2
}
