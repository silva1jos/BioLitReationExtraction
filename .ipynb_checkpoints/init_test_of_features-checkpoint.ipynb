{
 "cells": [
  {
   "cell_type": "code",
   "execution_count": 10,
   "metadata": {},
   "outputs": [],
   "source": [
    "import pandas as pd\n",
    "from sklearn.linear_model import LogisticRegression\n",
    "from sklearn.svm import SVC\n",
    "from sklearn.ensemble import VotingClassifier\n",
    "from sklearn.metrics import precision_recall_fscore_support\n",
    "from collections import Counter"
   ]
  },
  {
   "cell_type": "code",
   "execution_count": 3,
   "metadata": {},
   "outputs": [],
   "source": [
    "train_features = pd.read_csv('../corpus/features/left_features_train.csv', usecols= lambda s: s !='common_word')\n",
    "test_features = pd.read_csv('../corpus/features/left_features_test.csv', usecols= lambda s: s !='common_word')\n",
    "train_features = train_features.values.tolist()\n",
    "test_features = test_features.values.tolist()"
   ]
  },
  {
   "cell_type": "code",
   "execution_count": 59,
   "metadata": {},
   "outputs": [
    {
     "data": {
      "text/plain": [
       "224"
      ]
     },
     "execution_count": 59,
     "metadata": {},
     "output_type": "execute_result"
    }
   ],
   "source": [
    "len(train_features[0])"
   ]
  },
  {
   "cell_type": "code",
   "execution_count": 67,
   "metadata": {},
   "outputs": [],
   "source": [
    "train_labels = pd.read_csv('../dataset/GAD_Y_N_newF_wPubmedID_annotated_preprocessed_train.csv',\n",
    "                          usecols=[1])\n",
    "train_labels['association'] = train_labels['association'].apply(lambda x: x != 'F')\n",
    "train_labels = list(train_labels['association'])\n",
    "test_labels = pd.read_csv('../dataset/GAD_Y_N_newF_wPubmedID_annotated_preprocessed_test.csv',\n",
    "                          usecols=[1])\n",
    "test_labels['association'] = test_labels['association'].apply(lambda x: x != 'F')\n",
    "test_labels = list(test_labels['association'])"
   ]
  },
  {
   "cell_type": "code",
   "execution_count": 68,
   "metadata": {},
   "outputs": [
    {
     "name": "stdout",
     "output_type": "stream",
     "text": [
      "0.7598944591029023\n"
     ]
    },
    {
     "data": {
      "text/plain": [
       "(0.8191074786737312, 0.7598944591029023, 0.6783581385743588, None)"
      ]
     },
     "execution_count": 68,
     "metadata": {},
     "output_type": "execute_result"
    }
   ],
   "source": [
    "clf = LogisticRegression(solver='liblinear', multi_class='auto').fit(train_features, train_labels)\n",
    "print(sum([p == a for p, a in zip(clf.predict(test_features),test_labels)]) / len(test_labels))\n",
    "precision_recall_fscore_support(test_labels, clf.predict(test_features), average='weighted')"
   ]
  },
  {
   "cell_type": "code",
   "execution_count": null,
   "metadata": {},
   "outputs": [],
   "source": []
  },
  {
   "cell_type": "code",
   "execution_count": 74,
   "metadata": {},
   "outputs": [
    {
     "name": "stdout",
     "output_type": "stream",
     "text": [
      "0.762532981530343\n"
     ]
    },
    {
     "data": {
      "text/plain": [
       "(0.8206091545256395, 0.762532981530343, 0.6836639460672478, None)"
      ]
     },
     "execution_count": 74,
     "metadata": {},
     "output_type": "execute_result"
    }
   ],
   "source": [
    "svm_clf = SVC(gamma='scale').fit(train_features, train_labels)\n",
    "print(sum([p == a for p, a in zip(svm_clf.predict(test_features),test_labels)]) / len(test_labels))\n",
    "precision_recall_fscore_support(test_labels, svm_clf.predict(test_features), average='weighted')"
   ]
  },
  {
   "cell_type": "code",
   "execution_count": 79,
   "metadata": {},
   "outputs": [],
   "source": [
    "train_labels = pd.read_csv('../dataset/GAD_Y_N_newF_wPubmedID_annotated_preprocessed_train.csv',\n",
    "                          usecols=[1])\n",
    "train_labels = list(train_labels['association'])\n",
    "test_labels = pd.read_csv('../dataset/GAD_Y_N_newF_wPubmedID_annotated_preprocessed_test.csv',\n",
    "                          usecols=[1])\n",
    "test_labels = list(test_labels['association'])"
   ]
  },
  {
   "cell_type": "code",
   "execution_count": 80,
   "metadata": {},
   "outputs": [
    {
     "name": "stdout",
     "output_type": "stream",
     "text": [
      "0.6596306068601583\n"
     ]
    },
    {
     "name": "stderr",
     "output_type": "stream",
     "text": [
      "/home/jsilva/anaconda3/lib/python3.7/site-packages/sklearn/linear_model/logistic.py:758: ConvergenceWarning: lbfgs failed to converge. Increase the number of iterations.\n",
      "  \"of iterations.\", ConvergenceWarning)\n"
     ]
    },
    {
     "data": {
      "text/plain": [
       "(0.7242367440763116, 0.6596306068601583, 0.6124582713198207, None)"
      ]
     },
     "execution_count": 80,
     "metadata": {},
     "output_type": "execute_result"
    }
   ],
   "source": [
    "clf = LogisticRegression(solver='lbfgs', multi_class='auto', max_iter=1000).fit(train_features, train_labels)\n",
    "print(sum([p == a for p, a in zip(clf.predict(test_features),test_labels)]) / len(test_labels))\n",
    "precision_recall_fscore_support(test_labels, clf.predict(test_features), average='weighted')"
   ]
  },
  {
   "cell_type": "code",
   "execution_count": 31,
   "metadata": {},
   "outputs": [
    {
     "name": "stdout",
     "output_type": "stream",
     "text": [
      "Counter({'Y': 1239, 'N': 660, 'F': 350, 'P': 1})\n",
      "Counter({'Y': 165, 'N': 113, 'F': 101})\n",
      "Counter({'Y': 257, 'N': 104, 'F': 18})\n"
     ]
    }
   ],
   "source": [
    "print(Counter(train_labels))\n",
    "print(Counter(test_labels))\n",
    "print(Counter(clf.predict(test_features)))"
   ]
  },
  {
   "cell_type": "code",
   "execution_count": 82,
   "metadata": {},
   "outputs": [
    {
     "name": "stdout",
     "output_type": "stream",
     "text": [
      "0.6675461741424802\n"
     ]
    },
    {
     "data": {
      "text/plain": [
       "(0.7218500815721856, 0.6675461741424802, 0.6333834334598787, None)"
      ]
     },
     "execution_count": 82,
     "metadata": {},
     "output_type": "execute_result"
    }
   ],
   "source": [
    "svm_clf = SVC(gamma='scale').fit(train_features, train_labels)\n",
    "print(sum([p == a for p, a in zip(svm_clf.predict(test_features),test_labels)]) / len(test_labels))\n",
    "precision_recall_fscore_support(test_labels, svm_clf.predict(test_features), average='weighted')"
   ]
  },
  {
   "cell_type": "code",
   "execution_count": 45,
   "metadata": {},
   "outputs": [],
   "source": [
    "def split(a, n):\n",
    "    k, m = divmod(len(a), n)\n",
    "    return (a[i * k + min(i, m):(i + 1) * k + min(i + 1, m)] for i in range(n))"
   ]
  },
  {
   "cell_type": "code",
   "execution_count": 59,
   "metadata": {},
   "outputs": [
    {
     "name": "stderr",
     "output_type": "stream",
     "text": [
      "/home/jsilva/anaconda3/lib/python3.7/site-packages/sklearn/svm/base.py:196: FutureWarning: The default value of gamma will change from 'auto' to 'scale' in version 0.22 to account better for unscaled features. Set gamma explicitly to 'auto' or 'scale' to avoid this warning.\n",
      "  \"avoid this warning.\", FutureWarning)\n",
      "/home/jsilva/anaconda3/lib/python3.7/site-packages/sklearn/svm/base.py:196: FutureWarning: The default value of gamma will change from 'auto' to 'scale' in version 0.22 to account better for unscaled features. Set gamma explicitly to 'auto' or 'scale' to avoid this warning.\n",
      "  \"avoid this warning.\", FutureWarning)\n",
      "/home/jsilva/anaconda3/lib/python3.7/site-packages/sklearn/svm/base.py:196: FutureWarning: The default value of gamma will change from 'auto' to 'scale' in version 0.22 to account better for unscaled features. Set gamma explicitly to 'auto' or 'scale' to avoid this warning.\n",
      "  \"avoid this warning.\", FutureWarning)\n"
     ]
    },
    {
     "data": {
      "text/plain": [
       "0.6649076517150396"
      ]
     },
     "execution_count": 59,
     "metadata": {},
     "output_type": "execute_result"
    }
   ],
   "source": [
    "train_splits = split(train_features, 3)\n",
    "train_labels_splits = split(train_labels, 3)\n",
    "clfs = []\n",
    "for data, labels in zip(train_splits, train_labels_splits):\n",
    "    eclf = SVC().fit(data, labels)\n",
    "    clfs.append(eclf)\n",
    "preds = [c.predict(test_features) for c in clfs]\n",
    "pred = [max(set(x), key=x.count) for x in zip(*preds)]\n",
    "sum([p == a for p, a in zip(pred,test_labels)]) / len(test_labels)"
   ]
  }
 ],
 "metadata": {
  "kernelspec": {
   "display_name": "Python 3",
   "language": "python",
   "name": "python3"
  },
  "language_info": {
   "codemirror_mode": {
    "name": "ipython",
    "version": 3
   },
   "file_extension": ".py",
   "mimetype": "text/x-python",
   "name": "python",
   "nbconvert_exporter": "python",
   "pygments_lexer": "ipython3",
   "version": "3.7.1"
  }
 },
 "nbformat": 4,
 "nbformat_minor": 2
}
