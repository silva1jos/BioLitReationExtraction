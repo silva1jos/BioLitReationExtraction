{
 "cells": [
  {
   "cell_type": "code",
   "execution_count": 1,
   "metadata": {},
   "outputs": [],
   "source": [
    "import xml.etree.ElementTree as ET\n",
    "import os "
   ]
  },
  {
   "cell_type": "code",
   "execution_count": 4,
   "metadata": {},
   "outputs": [],
   "source": [
    "def get_abstract(xml_path):\n",
    "    \"\"\" From a given file path, get the abstract text. \"\"\"\n",
    "    return ET.parse(xml_path).findall('MedlineCitation')[0].findall('Article')[0] \\\n",
    "                             .findall('Abstract')[0].findall('AbstractText')[0].text\n",
    "\n",
    "\n",
    "def write_abstract(tsv_path, pubmed_id, abstract):\n",
    "    \"\"\" From a file path to write a tsv file, a pubmed ID, and an abstract text, write the abstract\"\"\"\n",
    "    with open(tsv_path, 'w') as fp:\n",
    "        fp.write('PUBMEDID\\tABSTRACT\\n')\n",
    "        fp.write(str(pubmed_id) + '\\t' + abstract + '\\n')\n",
    "        "
   ]
  },
  {
   "cell_type": "code",
   "execution_count": null,
   "metadata": {},
   "outputs": [],
   "source": [
    "# Converting to the format which we are now using\n",
    "# Not all of the files seem to have the abstract present?\n",
    "ids = [f.split('.')[0] for f in os.listdir('../corpus/abstract/')]\n",
    "for f in ids:\n",
    "    try:\n",
    "        write_abstract('../corpus/abstract_only/' + f + '.tsv', f,\n",
    "                       get_abstract('../corpus/abstract/' + f + '.xml'))\n",
    "    except:\n",
    "        pass  # Some files don't have abstracts"
   ]
  },
  {
   "cell_type": "code",
   "execution_count": 1,
   "metadata": {},
   "outputs": [
    {
     "data": {
      "text/plain": [
       "1"
      ]
     },
     "execution_count": 1,
     "metadata": {},
     "output_type": "execute_result"
    }
   ],
   "source": []
  }
 ],
 "metadata": {
  "kernelspec": {
   "display_name": "Python 3",
   "language": "python",
   "name": "python3"
  },
  "language_info": {
   "codemirror_mode": {
    "name": "ipython",
    "version": 3
   },
   "file_extension": ".py",
   "mimetype": "text/x-python",
   "name": "python",
   "nbconvert_exporter": "python",
   "pygments_lexer": "ipython3",
   "version": "3.7.1"
  }
 },
 "nbformat": 4,
 "nbformat_minor": 2
}
